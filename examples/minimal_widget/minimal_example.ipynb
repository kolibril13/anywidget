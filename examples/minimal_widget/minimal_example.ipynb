{
 "cells": [
  {
   "cell_type": "code",
   "execution_count": 1,
   "id": "556b40f4-e571-4d0a-b23e-f2617356dead",
   "metadata": {
    "tags": []
   },
   "outputs": [],
   "source": [
    "import pathlib\n",
    "import anywidget\n",
    "import traitlets"
   ]
  },
  {
   "cell_type": "code",
   "execution_count": 2,
   "id": "62ad20de-0eeb-4b36-ba3d-fbb7272039bd",
   "metadata": {
    "tags": []
   },
   "outputs": [
    {
     "data": {
      "application/vnd.jupyter.widget-view+json": {
       "model_id": "e163c1b088ac41df9b2f13453b754905",
       "version_major": 2,
       "version_minor": 0
      },
      "text/plain": [
       "Widget1()"
      ]
     },
     "execution_count": 2,
     "metadata": {},
     "output_type": "execute_result"
    }
   ],
   "source": [
    "class Widget1(anywidget.AnyWidget):\n",
    "    _esm = \"\"\"\n",
    "    export function render(view) {\n",
    "        console.log(\"Hello World 1\")\n",
    "    }\n",
    "    \"\"\"\n",
    "Widget1()"
   ]
  },
  {
   "cell_type": "code",
   "execution_count": 3,
   "id": "be435663-62cd-4fd4-9fca-3f246443bbcd",
   "metadata": {},
   "outputs": [
    {
     "data": {
      "application/vnd.jupyter.widget-view+json": {
       "model_id": "c2e55d823b8349f4aee6d8d2c1b26332",
       "version_major": 2,
       "version_minor": 0
      },
      "text/plain": [
       "Widget2()"
      ]
     },
     "execution_count": 3,
     "metadata": {},
     "output_type": "execute_result"
    }
   ],
   "source": [
    "class Widget2(anywidget.AnyWidget):\n",
    "    _esm = pathlib.Path(\"index.js\")\n",
    "\n",
    "Widget2()"
   ]
  },
  {
   "cell_type": "code",
   "execution_count": null,
   "id": "f7b9b46b-843f-4559-b348-dc96bb6fdbb4",
   "metadata": {},
   "outputs": [],
   "source": []
  }
 ],
 "metadata": {
  "kernelspec": {
   "display_name": "Python 3 (ipykernel)",
   "language": "python",
   "name": "python3"
  },
  "language_info": {
   "codemirror_mode": {
    "name": "ipython",
    "version": 3
   },
   "file_extension": ".py",
   "mimetype": "text/x-python",
   "name": "python",
   "nbconvert_exporter": "python",
   "pygments_lexer": "ipython3",
   "version": "3.11.2"
  }
 },
 "nbformat": 4,
 "nbformat_minor": 5
}
